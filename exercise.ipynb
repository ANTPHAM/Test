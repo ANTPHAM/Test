{
 "cells": [
  {
   "cell_type": "code",
   "execution_count": 1,
   "metadata": {},
   "outputs": [],
   "source": [
    "from pymongo import MongoClient\n",
    "from pyspark import SparkContext, SparkConf\n",
    "from pyspark.sql import SparkSession\n",
    "from pyspark.sql.functions import *\n",
    "import pandas as pd\n",
    "from matplotlib import pyplot as plt\n",
    "import numpy as np\n",
    "\n",
    "import warnings\n",
    "warnings.filterwarnings('ignore')\n",
    "warnings.simplefilter('ignore')"
   ]
  },
  {
   "cell_type": "code",
   "execution_count": 2,
   "metadata": {},
   "outputs": [
    {
     "name": "stderr",
     "output_type": "stream",
     "text": [
      "WARNING: An illegal reflective access operation has occurred\n",
      "WARNING: Illegal reflective access by org.apache.spark.unsafe.Platform (file:/usr/local/spark-3.1.2-bin-hadoop3.2/jars/spark-unsafe_2.12-3.1.2.jar) to constructor java.nio.DirectByteBuffer(long,int)\n",
      "WARNING: Please consider reporting this to the maintainers of org.apache.spark.unsafe.Platform\n",
      "WARNING: Use --illegal-access=warn to enable warnings of further illegal reflective access operations\n",
      "WARNING: All illegal access operations will be denied in a future release\n"
     ]
    },
    {
     "name": "stdout",
     "output_type": "stream",
     "text": [
      ":: loading settings :: url = jar:file:/usr/local/spark-3.1.2-bin-hadoop3.2/jars/ivy-2.4.0.jar!/org/apache/ivy/core/settings/ivysettings.xml\n"
     ]
    },
    {
     "name": "stderr",
     "output_type": "stream",
     "text": [
      "Ivy Default Cache set to: /home/jovyan/.ivy2/cache\n",
      "The jars for the packages stored in: /home/jovyan/.ivy2/jars\n",
      "org.mongodb.spark#mongo-spark-connector_2.12 added as a dependency\n",
      ":: resolving dependencies :: org.apache.spark#spark-submit-parent-edda7b98-c8fd-4326-9e95-34b3f57b49fc;1.0\n",
      "\tconfs: [default]\n",
      "\tfound org.mongodb.spark#mongo-spark-connector_2.12;3.0.1 in central\n",
      "\tfound org.mongodb#mongodb-driver-sync;4.0.5 in central\n",
      "\tfound org.mongodb#bson;4.0.5 in central\n",
      "\tfound org.mongodb#mongodb-driver-core;4.0.5 in central\n",
      ":: resolution report :: resolve 325ms :: artifacts dl 13ms\n",
      "\t:: modules in use:\n",
      "\torg.mongodb#bson;4.0.5 from central in [default]\n",
      "\torg.mongodb#mongodb-driver-core;4.0.5 from central in [default]\n",
      "\torg.mongodb#mongodb-driver-sync;4.0.5 from central in [default]\n",
      "\torg.mongodb.spark#mongo-spark-connector_2.12;3.0.1 from central in [default]\n",
      "\t---------------------------------------------------------------------\n",
      "\t|                  |            modules            ||   artifacts   |\n",
      "\t|       conf       | number| search|dwnlded|evicted|| number|dwnlded|\n",
      "\t---------------------------------------------------------------------\n",
      "\t|      default     |   4   |   0   |   0   |   0   ||   4   |   0   |\n",
      "\t---------------------------------------------------------------------\n",
      ":: retrieving :: org.apache.spark#spark-submit-parent-edda7b98-c8fd-4326-9e95-34b3f57b49fc\n",
      "\tconfs: [default]\n",
      "\t0 artifacts copied, 4 already retrieved (0kB/13ms)\n",
      "21/07/27 06:37:28 WARN NativeCodeLoader: Unable to load native-hadoop library for your platform... using builtin-java classes where applicable\n",
      "Using Spark's default log4j profile: org/apache/spark/log4j-defaults.properties\n",
      "Setting default log level to \"WARN\".\n",
      "To adjust logging level use sc.setLogLevel(newLevel). For SparkR, use setLogLevel(newLevel).\n"
     ]
    }
   ],
   "source": [
    "spark = SparkSession \\\n",
    "    .builder.master('local') \\\n",
    "    .appName(\"myApp\") \\\n",
    "    .config(\"spark.mongodb.input.uri\", \"mongodb://mongo:27017/test.coll\") \\\n",
    "    .config(\"spark.mongodb.output.uri\", \"mongodb://mongo:27017/test.coll\") \\\n",
    "    .config(\"spark.jars.packages\",\"org.mongodb.spark:mongo-spark-connector_2.12:3.0.1\")\\\n",
    "    .getOrCreate()"
   ]
  },
  {
   "cell_type": "markdown",
   "metadata": {},
   "source": [
    "# DATA PROCESSING"
   ]
  },
  {
   "cell_type": "code",
   "execution_count": 3,
   "metadata": {},
   "outputs": [],
   "source": [
    "filepath = \"/home/jovyan/data\"\n",
    "filename = \"OnlineRetail.xlsx\""
   ]
  },
  {
   "cell_type": "code",
   "execution_count": 4,
   "metadata": {},
   "outputs": [],
   "source": [
    "def ConnectToMongoDB (dbname,collectname):\n",
    "    # db : name of Mongo database (str)\n",
    "    # collection: name of collection (str)\n",
    "    try:\n",
    "        conn = MongoClient(\"mongodb://mongo:27017\") # add your MDB adress\n",
    "        dblist = conn.list_database_names()\n",
    "        if (dbname in dblist) and(collectname in conn[dbname].list_collection_names()):\n",
    "            print(\"The database and the collection exist\")\n",
    "        elif (dbname in dblist) and (collectname not in conn[dbname].list_collection_names()):\n",
    "            newcollection = conn[dbname][collectname]\n",
    "            print(\"Created a new collection called %s\" %collectname)\n",
    "        else:\n",
    "            newdb = conn[dbname]# The new database isn't created until we do your first insert\n",
    "            print(\"Created a new database called %s\" %dbname)\n",
    "            newcollection = conn[dbname][collectname]\n",
    "            print(\"Create a new collection called %s\" %collectname)\n",
    "           \n",
    "        return conn[dbname],conn[dbname][collectname]\n",
    "    except:\n",
    "        print(\"Could not connect to MongoDB\") \n",
    "        "
   ]
  },
  {
   "cell_type": "code",
   "execution_count": 5,
   "metadata": {},
   "outputs": [],
   "source": [
    "# Read and convert dataset to pandas dataframe and Spark Datframe\n",
    "def ReadConvertFile(filepath,filename ):\n",
    "    # read the Excel file as a DataFrame\\n\",\n",
    "    df = pd.read_excel(filepath+ '/' + filename)\n",
    "    # make apropriate column types\n",
    "    for numcol in ['Quantity']:\n",
    "        df[numcol] = pd.to_numeric(df[numcol], errors = 'coerce').astype(int)\n",
    "    for strcol in ['InvoiceNo','StockCode','Description','Country']:\n",
    "        df[strcol] = df[strcol].astype(str)\n",
    "    df['UnitPrice'] = df['UnitPrice'].astype(float)\n",
    "    df['CustomerID'] = str(df['CustomerID']).split('.')[0].split()[1]# remove decimals and blank spaces\n",
    "    df = df[~df['Description'].str.startswith('?')].copy()# remove rows where Description starts with ?\n",
    "    sparkdf = spark.createDataFrame(df)\n",
    "    return df,sparkdf"
   ]
  },
  {
   "cell_type": "code",
   "execution_count": 6,
   "metadata": {},
   "outputs": [],
   "source": [
    "# Write and load the spark DF to MongoDB\n",
    "def WriteReadMongoDb (dbname,collectname):\n",
    "    '''\n",
    "    dbname : name of Mongo database (str)\n",
    "    collection: name of collection (str)\n",
    "    '''\n",
    "    sparkdf = ReadConvertFile(filepath,filename)[1]\n",
    "    \n",
    "    # write data to MongoDB\n",
    "    sparkdf.write.format(\"com.mongodb.spark.sql.DefaultSource\")\\\n",
    "       .mode(\"overwrite\")\\\n",
    "       .option(\"database\",dbname)\\\n",
    "       .option(\"collection\",collectname)\\\n",
    "       .save()\\\n",
    "    \n",
    "    # load data from MongoDB\n",
    "    mongoDF = spark.read\\\n",
    "      .format(\"com.mongodb.spark.sql.DefaultSource\")\\\n",
    "      .option(\"database\",dbname)\\\n",
    "      .option(\"collection\",collectname)\\\n",
    "      .load()\n",
    "    \n",
    "    return mongoDF"
   ]
  },
  {
   "cell_type": "code",
   "execution_count": 7,
   "metadata": {},
   "outputs": [
    {
     "name": "stderr",
     "output_type": "stream",
     "text": [
      "21/07/27 06:40:22 WARN TaskSetManager: Stage 0 contains a task of very large size (34669 KiB). The maximum recommended task size is 1000 KiB.\n",
      "                                                                                \r"
     ]
    }
   ],
   "source": [
    "mongoDF = WriteReadMongoDb('TestForKCL','OnlineRetail')"
   ]
  },
  {
   "cell_type": "code",
   "execution_count": 8,
   "metadata": {},
   "outputs": [
    {
     "name": "stdout",
     "output_type": "stream",
     "text": [
      "(541842, 8)\n"
     ]
    },
    {
     "name": "stderr",
     "output_type": "stream",
     "text": [
      "[Stage 2:=======================================>                   (2 + 1) / 3]\r"
     ]
    },
    {
     "name": "stdout",
     "output_type": "stream",
     "text": [
      "(541842, 9)\n"
     ]
    },
    {
     "name": "stderr",
     "output_type": "stream",
     "text": [
      "\r",
      "                                                                                \r"
     ]
    }
   ],
   "source": [
    "# check if data has been fully loaded to MongoDB \n",
    "print(ReadConvertFile(filepath,filename)[0].shape)\n",
    "print((mongoDF.count(), len(mongoDF.columns)))"
   ]
  },
  {
   "cell_type": "code",
   "execution_count": 9,
   "metadata": {},
   "outputs": [],
   "source": [
    "# Creat a temporary table for the dataframe to do analysis\n",
    "mongoDF.createOrReplaceTempView(\"temp\")"
   ]
  },
  {
   "cell_type": "markdown",
   "metadata": {},
   "source": [
    "# DATA ANALYSIS"
   ]
  },
  {
   "cell_type": "markdown",
   "metadata": {},
   "source": [
    "## Group all transactions by invoice"
   ]
  },
  {
   "cell_type": "code",
   "execution_count": 10,
   "metadata": {},
   "outputs": [],
   "source": [
    "def groupTransbyInvoice (mongoDF):\n",
    "    \n",
    "    mongoDF.createOrReplaceTempView(\"temp\")\n",
    "    groupbyInvoice = spark.sql(\"SELECT InvoiceNo, Count (*) FROM temp Group By InvoiceNo\")\n",
    "    groupbyInvoiceRDD = groupbyInvoice.rdd\n",
    "    result = groupbyInvoiceRDD.map(tuple)\n",
    "    result = result.collect()\n",
    "    return result    "
   ]
  },
  {
   "cell_type": "code",
   "execution_count": 11,
   "metadata": {},
   "outputs": [
    {
     "name": "stderr",
     "output_type": "stream",
     "text": [
      "                                                                                \r"
     ]
    }
   ],
   "source": [
    "groupTransbyInvoiceOut = groupTransbyInvoice(mongoDF)"
   ]
  },
  {
   "cell_type": "markdown",
   "metadata": {},
   "source": [
    "# Which product sold the most?"
   ]
  },
  {
   "cell_type": "code",
   "execution_count": 12,
   "metadata": {},
   "outputs": [],
   "source": [
    "def mostsoldproduct(mongoDF):\n",
    "    mongoDF.createOrReplaceTempView(\"temp\")\n",
    "    mostsoldproduct = spark.sql(\"SELECT Description, Sum (Quantity) as TotalQuantity \\\n",
    "                            FROM temp \\\n",
    "                          Group By Description \\\n",
    "                              Order by TotalQuantity Desc Limit 1\")\n",
    "    prod = mostsoldproduct.collect()[0][0]\n",
    "    mostsoldproduct.show()\n",
    "    return prod"
   ]
  },
  {
   "cell_type": "code",
   "execution_count": 13,
   "metadata": {},
   "outputs": [
    {
     "name": "stderr",
     "output_type": "stream",
     "text": [
      "[Stage 9:================================================>      (176 + 1) / 200]\r"
     ]
    },
    {
     "name": "stdout",
     "output_type": "stream",
     "text": [
      "+--------------------+-------------+\n",
      "|         Description|TotalQuantity|\n",
      "+--------------------+-------------+\n",
      "|WORLD WAR 2 GLIDE...|        53847|\n",
      "+--------------------+-------------+\n",
      "\n"
     ]
    },
    {
     "name": "stderr",
     "output_type": "stream",
     "text": [
      "\r",
      "[Stage 9:======================================================>(197 + 1) / 200]\r",
      "\r",
      "                                                                                \r"
     ]
    },
    {
     "data": {
      "text/plain": [
       "'WORLD WAR 2 GLIDERS ASSTD DESIGNS'"
      ]
     },
     "execution_count": 13,
     "metadata": {},
     "output_type": "execute_result"
    }
   ],
   "source": [
    " mostsoldproduct(mongoDF)"
   ]
  },
  {
   "cell_type": "markdown",
   "metadata": {},
   "source": [
    "## Which customer spent the most money?"
   ]
  },
  {
   "cell_type": "code",
   "execution_count": 14,
   "metadata": {},
   "outputs": [],
   "source": [
    "def mostspendclient(mongoDF):\n",
    "    mongoDF.createOrReplaceTempView(\"temp\")\n",
    "    mostspendclient =spark.sql(\"SELECT CustomerID, Sum(T.Spend) as TotalSpend FROM\\\n",
    "                             (SELECT CustomerID, Quantity*UnitPrice as Spend \\\n",
    "                                FROM temp) as T \\\n",
    "                               Group By CustomerID \\\n",
    "                              Order by TotalSpend Desc Limit 1\")\n",
    "    clientID = mostspendclient.collect()[0][0]\n",
    "    mostspendclient.show()\n",
    "    return clientID"
   ]
  },
  {
   "cell_type": "code",
   "execution_count": 15,
   "metadata": {},
   "outputs": [
    {
     "name": "stderr",
     "output_type": "stream",
     "text": [
      "[Stage 14:=========================================>            (154 + 1) / 200]\r"
     ]
    },
    {
     "name": "stdout",
     "output_type": "stream",
     "text": [
      "+----------+-----------------+\n",
      "|CustomerID|       TotalSpend|\n",
      "+----------+-----------------+\n",
      "|     17850|9747747.933998458|\n",
      "+----------+-----------------+\n",
      "\n"
     ]
    },
    {
     "name": "stderr",
     "output_type": "stream",
     "text": [
      "\r",
      "[Stage 14:================================================>     (180 + 1) / 200]\r",
      "\r",
      "                                                                                \r"
     ]
    },
    {
     "data": {
      "text/plain": [
       "'17850'"
      ]
     },
     "execution_count": 15,
     "metadata": {},
     "output_type": "execute_result"
    }
   ],
   "source": [
    "mostspendclient(mongoDF)"
   ]
  },
  {
   "cell_type": "markdown",
   "metadata": {},
   "source": [
    "## Provide a chart showing the distribution of each product for each of the available countries"
   ]
  },
  {
   "cell_type": "code",
   "execution_count": 16,
   "metadata": {},
   "outputs": [
    {
     "name": "stderr",
     "output_type": "stream",
     "text": [
      "                                                                                \r"
     ]
    },
    {
     "data": {
      "image/png": "[encoded data removed]",
      "text/plain": [
       "<Figure size 432x288 with 1 Axes>"
      ]
     },
     "metadata": {
      "needs_background": "light"
     },
     "output_type": "display_data"
    },
    {
     "data": {
      "image/png": "[encoded data removed]",
      "text/plain": [
       "<Figure size 432x288 with 1 Axes>"
      ]
     },
     "metadata": {
      "needs_background": "light"
     },
     "output_type": "display_data"
    }
   ],
   "source": [
    "# convert the spark dataframe to pandas dataframe\n",
    "pdDF = mongoDF.toPandas()\n",
    "\n",
    "# group by Product,Country and count the number of each product bought by each country\n",
    "prodbycountry = pdDF.groupby(['Description', 'Country']).size().reset_index(name='count')\n",
    "\n",
    "# use a pivot table to display countries in columns and volumes in rows\n",
    "prodbycountrypiv = prodbycountry.pivot(index ='Description', columns='Country', values='count')\n",
    "\n",
    "# Plot charts to show the distribution of some of products for each countries available ( drop al Nan)\n",
    "n = 2 # put the number of products to show\n",
    "for i in range(n):\n",
    "    df_sample = prodbycountrypiv[i:i+1]\n",
    "    df_sample1 = df_sample.dropna(axis=1, how='all') # drop all columns containing Nan\n",
    "    chart = df_sample1.plot(kind='bar',figsize=(6,4));\n",
    "    chart.set_ylabel(\"Quantity\");\n",
    "    plt.xticks(rotation=0, horizontalalignment=\"center\")"
   ]
  },
  {
   "cell_type": "markdown",
   "metadata": {},
   "source": [
    "## Create a new collection on Mongo DB to store the distribution of each product for each of the available countries¶"
   ]
  },
  {
   "cell_type": "code",
   "execution_count": 17,
   "metadata": {},
   "outputs": [
    {
     "name": "stdout",
     "output_type": "stream",
     "text": [
      "Total number of products: 4211\n",
      "Total number of countries: 38\n"
     ]
    }
   ],
   "source": [
    "# replace Nan by 0 to insert data to a new MongoDb collection\n",
    "prodbycountrypiv = prodbycountrypiv.fillna(0)\n",
    "\n",
    "print(\"Total number of products: {}\\nTotal number of countries: {}\".\\\n",
    "      format(prodbycountrypiv.shape[0], prodbycountrypiv.shape[1]))  "
   ]
  },
  {
   "cell_type": "code",
   "execution_count": 18,
   "metadata": {},
   "outputs": [
    {
     "name": "stdout",
     "output_type": "stream",
     "text": [
      "The database and the collection exist\n",
      "(12633, Collection(Database(MongoClient(host=['mongo:27017'], document_class=dict, tz_aware=False, connect=True), 'TestForKCL'), 'ProdCountry.columns'))\n"
     ]
    }
   ],
   "source": [
    "# prepare data to insert to the new collection on MongoDb\n",
    "prodbycountryToMongo = []\n",
    "for i in range(len(prodbycountrypiv)):\n",
    "    Prod = {\"ProdName\": prodbycountrypiv.iloc[[i]].index[0]}\n",
    "    VolbyCountry = []\n",
    "    Prod[\"Countries\"]= VolbyCountry\n",
    "    prodbycountryToMongo.append(Prod)\n",
    "    for j in range(len(prodbycountrypiv.iloc[[i]].columns)):\n",
    "        d = {}\n",
    "        colname= str(prodbycountrypiv.iloc[[i]].columns[j])\n",
    "        d['country'] = prodbycountrypiv.iloc[[i]].columns[j]\n",
    "        d['vol'] = int(prodbycountrypiv.iloc[i][colname])\n",
    "        VolbyCountry.append(d)\n",
    "        \n",
    "# Use the function ConnectToMongoDB to connnect to MongoDB and create a new collection called ProdCountry\n",
    "newcollection = ConnectToMongoDB ('TestForKCL','ProdCountry')[1]\n",
    "\n",
    "# insert the data to the new collection\n",
    "newcollection.insert_many(prodbycountryToMongo)\n",
    "\n",
    "# check data om the new collection\n",
    "print((newcollection.count(), newcollection.columns))"
   ]
  },
  {
   "cell_type": "markdown",
   "metadata": {},
   "source": [
    "# What is the average unit price?"
   ]
  },
  {
   "cell_type": "code",
   "execution_count": 19,
   "metadata": {},
   "outputs": [],
   "source": [
    "def avgprice (mongoDF):\n",
    "    mongoDF.createOrReplaceTempView(\"temp\")\n",
    "    avgprice =spark.sql(\"SELECT Description, Avg(UnitPrice) as AvgUnitPrice \\\n",
    "                    FROM temp\\\n",
    "                       Group By Description \\\n",
    "                        order by  AvgUnitPrice desc \")\n",
    "    avgpriceRDD = avgprice.rdd\n",
    "    result = avgpriceRDD.map(tuple)\n",
    "    result = result.collect()\n",
    "    return result"
   ]
  },
  {
   "cell_type": "code",
   "execution_count": 20,
   "metadata": {},
   "outputs": [
    {
     "name": "stderr",
     "output_type": "stream",
     "text": [
      "                                                                                \r"
     ]
    }
   ],
   "source": [
    "avgpriceOut = avgprice(mongoDF)"
   ]
  },
  {
   "cell_type": "markdown",
   "metadata": {},
   "source": [
    "## Give a chart showing the distribution of prices"
   ]
  },
  {
   "cell_type": "code",
   "execution_count": 21,
   "metadata": {},
   "outputs": [
    {
     "data": {
      "image/png": "[encoded data removed]",
      "text/plain": [
       "<Figure size 576x288 with 1 Axes>"
      ]
     },
     "metadata": {
      "needs_background": "light"
     },
     "output_type": "display_data"
    }
   ],
   "source": [
    "# Convert the UnitPrice to Log to avoid a very large of data dispersion \n",
    "UnitPriceLog= np.log(pdDF['UnitPrice'])\n",
    "bin_values = np.arange(start=-2.5, stop=6, step=0.2)\n",
    "UnitPriceLog.hist(bins=bin_values, figsize=[8,4]);\n",
    "plt.xlabel('UnitPriceLog');\n",
    "plt.ylabel('Frequency');"
   ]
  },
  {
   "cell_type": "markdown",
   "metadata": {},
   "source": [
    "## Ratio between price and quantity for each invoice"
   ]
  },
  {
   "cell_type": "code",
   "execution_count": 22,
   "metadata": {},
   "outputs": [],
   "source": [
    "def ratioPriceQuant(mongoDF):\n",
    "    mongoDF.createOrReplaceTempView(\"temp\")\n",
    "    ratio = spark.sql(\"SELECT InvoiceNo, SUM(UnitPrice)/SUM(Quantity) as Ratio \\\n",
    "                            FROM temp Group By InvoiceNo\")\n",
    "    ratioRDD = ratio.rdd\n",
    "    result = ratioRDD.map(tuple)\n",
    "    result = result.collect()\n",
    "    return result"
   ]
  },
  {
   "cell_type": "code",
   "execution_count": 23,
   "metadata": {},
   "outputs": [
    {
     "name": "stderr",
     "output_type": "stream",
     "text": [
      "                                                                                \r"
     ]
    }
   ],
   "source": [
    "ratioPriceQuantOut = ratioPriceQuant(mongoDF)"
   ]
  },
  {
   "cell_type": "markdown",
   "metadata": {},
   "source": [
    "## UNIT TESTS"
   ]
  },
  {
   "cell_type": "code",
   "execution_count": 24,
   "metadata": {},
   "outputs": [
    {
     "name": "stderr",
     "output_type": "stream",
     "text": [
      "21/07/27 06:51:36 WARN TaskSetManager: Stage 24 contains a task of very large size (34669 KiB). The maximum recommended task size is 1000 KiB.\n",
      "/opt/conda/lib/python3.9/socket.py:775: ResourceWarning: unclosed <socket.socket fd=68, family=AddressFamily.AF_INET, type=SocketKind.SOCK_STREAM, proto=6, laddr=('127.0.0.1', 58986), raddr=('127.0.0.1', 36751)>\n",
      "  self._sock = None\n",
      "ResourceWarning: Enable tracemalloc to get the object allocation traceback\n",
      "FAIL\n",
      "/opt/conda/lib/python3.9/socket.py:775: ResourceWarning: unclosed <socket.socket fd=68, family=AddressFamily.AF_INET, type=SocketKind.SOCK_STREAM, proto=6, laddr=('127.0.0.1', 60530), raddr=('127.0.0.1', 39983)>\n",
      "  self._sock = None\n",
      "ResourceWarning: Enable tracemalloc to get the object allocation traceback\n",
      "FAIL\n",
      "/opt/conda/lib/python3.9/socket.py:775: ResourceWarning: unclosed <socket.socket fd=68, family=AddressFamily.AF_INET, type=SocketKind.SOCK_STREAM, proto=6, laddr=('127.0.0.1', 51108), raddr=('127.0.0.1', 35081)>\n",
      "  self._sock = None\n",
      "ResourceWarning: Enable tracemalloc to get the object allocation traceback\n",
      "ok                                                                              \n",
      "test_mostspendclient (__main__.TestNotebook) ... "
     ]
    },
    {
     "name": "stdout",
     "output_type": "stream",
     "text": [
      "+--------------------+-------------+\n",
      "|         Description|TotalQuantity|\n",
      "+--------------------+-------------+\n",
      "|WORLD WAR 2 GLIDE...|        53847|\n",
      "+--------------------+-------------+\n",
      "\n"
     ]
    },
    {
     "name": "stderr",
     "output_type": "stream",
     "text": [
      "/opt/conda/lib/python3.9/socket.py:775: ResourceWarning: unclosed <socket.socket fd=68, family=AddressFamily.AF_INET, type=SocketKind.SOCK_STREAM, proto=6, laddr=('127.0.0.1', 51142), raddr=('127.0.0.1', 40271)>\n",
      "  self._sock = None\n",
      "ResourceWarning: Enable tracemalloc to get the object allocation traceback\n",
      "ok                                                                              \n",
      "test_ratioPriceQuant (__main__.TestNotebook) ... "
     ]
    },
    {
     "name": "stdout",
     "output_type": "stream",
     "text": [
      "+----------+-----------------+\n",
      "|CustomerID|       TotalSpend|\n",
      "+----------+-----------------+\n",
      "|     17850|9747747.933999557|\n",
      "+----------+-----------------+\n",
      "\n"
     ]
    },
    {
     "name": "stderr",
     "output_type": "stream",
     "text": [
      "/opt/conda/lib/python3.9/socket.py:775: ResourceWarning: unclosed <socket.socket fd=68, family=AddressFamily.AF_INET, type=SocketKind.SOCK_STREAM, proto=6, laddr=('127.0.0.1', 52740), raddr=('127.0.0.1', 43189)>\n",
      "  self._sock = None\n",
      "ResourceWarning: Enable tracemalloc to get the object allocation traceback\n",
      "FAIL\n",
      "\n",
      "======================================================================\n",
      "FAIL: test_avgprice (__main__.TestNotebook)\n",
      "----------------------------------------------------------------------\n",
      "Traceback (most recent call last):\n",
      "  File \"/tmp/ipykernel_2947/855353000.py\", line 30, in test_avgprice\n",
      "    self.assertListEqual(actual, expected)\n",
      "AssertionError: Lists differ: [('AM[22 chars]882352), ('PICNIC BASKET WICKER 60 PIECES', 64[207352 chars]333)] != [('AM[22 chars]882353), ('PICNIC BASKET WICKER 60 PIECES', 64[207614 chars]333)]\n",
      "\n",
      "First differing element 0:\n",
      "('AMAZON FEE', 7324.784705882352)\n",
      "('AMAZON FEE', 7324.784705882353)\n",
      "\n",
      "Diff is 568051 characters long. Set self.maxDiff to None to see it.\n",
      "\n",
      "======================================================================\n",
      "FAIL: test_groupTransbyInvoice (__main__.TestNotebook)\n",
      "----------------------------------------------------------------------\n",
      "Traceback (most recent call last):\n",
      "  File \"/tmp/ipykernel_2947/855353000.py\", line 25, in test_groupTransbyInvoice\n",
      "    self.assertListEqual(actual, expected)\n",
      "AssertionError: Lists differ: [('53[746 chars] ('554072', 25), ('554284', 1), ('554441', 21)[404377 chars], 4)] != [('53[746 chars] ('553835', 7), ('554072', 25), ('554284', 1),[404377 chars], 2)]\n",
      "\n",
      "First differing element 48:\n",
      "('554072', 25)\n",
      "('553835', 7)\n",
      "\n",
      "Diff is 502003 characters long. Set self.maxDiff to None to see it.\n",
      "\n",
      "======================================================================\n",
      "FAIL: test_ratioPriceQuant (__main__.TestNotebook)\n",
      "----------------------------------------------------------------------\n",
      "Traceback (most recent call last):\n",
      "  File \"/tmp/ipykernel_2947/855353000.py\", line 35, in test_ratioPriceQuant\n",
      "    self.assertListEqual(actual, expected)\n",
      "AssertionError: Lists differ: [('53[1183 chars] ('552852', 0.9244186046511627), ('553390', 1.[757486 chars]999)] != [('53[1183 chars] ('551692', 0.0), ('552852', 0.924418604651162[757486 chars]317)]\n",
      "\n",
      "First differing element 41:\n",
      "('552852', 0.9244186046511627)\n",
      "('551692', 0.0)\n",
      "\n",
      "Diff is 876888 characters long. Set self.maxDiff to None to see it.\n",
      "\n",
      "----------------------------------------------------------------------\n",
      "Ran 5 tests in 68.023s\n",
      "\n",
      "FAILED (failures=3)\n"
     ]
    },
    {
     "data": {
      "text/plain": [
       "<unittest.main.TestProgram at 0x7f5c8135e730>"
      ]
     },
     "execution_count": 24,
     "metadata": {},
     "output_type": "execute_result"
    }
   ],
   "source": [
    "import unittest\n",
    "\n",
    "class TestNotebook(unittest.TestCase):\n",
    "    \n",
    "    filepath = \"/home/jovyan/data\"\n",
    "    filename = \"OnlineRetail.xlsx\"\n",
    "    dbname = 'TestForKCL'\n",
    "    collectname = 'OnlineRetail'\n",
    "    sparkdf = ReadConvertFile(filepath,filename)[1]\n",
    "    mongoDF = WriteReadMongoDb(dbname,collectname)\n",
    "    \n",
    "    def test_mostsoldproduct(self):\n",
    "        actual =  mostsoldproduct(mongoDF)\n",
    "        expected = 'WORLD WAR 2 GLIDERS ASSTD DESIGNS'\n",
    "        self.assertEqual(actual, expected)\n",
    "    \n",
    "    def test_mostspendclient(self):\n",
    "        actual = mostspendclient(mongoDF)\n",
    "        expected = '17850'\n",
    "        self.assertEqual(actual, expected)\n",
    "        \n",
    "    def test_groupTransbyInvoice(self):\n",
    "        actual = groupTransbyInvoice(mongoDF)\n",
    "        expected = groupTransbyInvoiceOut\n",
    "        self.assertListEqual(actual, expected)  \n",
    "        \n",
    "    def test_avgprice(self):\n",
    "        actual = avgprice(mongoDF)\n",
    "        expected = avgpriceOut\n",
    "        self.assertListEqual(actual, expected)\n",
    "        \n",
    "    def test_ratioPriceQuant(self):\n",
    "        actual = ratioPriceQuant(mongoDF)\n",
    "        expected = ratioPriceQuantOut\n",
    "        self.assertListEqual(actual, expected)\n",
    "        \n",
    "\n",
    "\n",
    "unittest.main(argv=[''], verbosity=2, exit=False)"
   ]
  }
 ],
 "metadata": {
  "kernelspec": {
   "display_name": "Python 3 (ipykernel)",
   "language": "python",
   "name": "python3"
  },
  "language_info": {
   "codemirror_mode": {
    "name": "ipython",
    "version": 3
   },
   "file_extension": ".py",
   "mimetype": "text/x-python",
   "name": "python",
   "nbconvert_exporter": "python",
   "pygments_lexer": "ipython3",
   "version": "3.9.5"
  }
 },
 "nbformat": 4,
 "nbformat_minor": 2
}
